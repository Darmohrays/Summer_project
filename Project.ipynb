{
 "cells": [
  {
   "cell_type": "code",
   "execution_count": 1,
   "metadata": {},
   "outputs": [
    {
     "name": "stderr",
     "output_type": "stream",
     "text": [
      "Using TensorFlow backend.\n"
     ]
    }
   ],
   "source": [
    "import matplotlib.pyplot as plt\n",
    "import cv2\n",
    "import numpy as np\n",
    "import os\n",
    "import sys\n",
    "from IPython.display import clear_output\n",
    "import pandas as pd\n",
    "import random\n",
    "from utils import get_chars, get_words, save_img\n",
    "# from highlight import HighlightWords\n",
    "from keras.models import load_model"
   ]
  },
  {
   "cell_type": "code",
   "execution_count": 2,
   "metadata": {},
   "outputs": [],
   "source": [
    "def plot_img(img, figsize=(20, 20)):\n",
    "    plt.figure(figsize=figsize)\n",
    "    plt.imshow(img, cmap='gray')"
   ]
  },
  {
   "cell_type": "code",
   "execution_count": 3,
   "metadata": {},
   "outputs": [],
   "source": [
    "def process_img(img_path):\n",
    "    img = cv2.imread(img_path)\n",
    "    img = cv2.cvtColor(img, cv2.COLOR_BGR2GRAY)\n",
    "    img = cv2.threshold(img, 180, 255, cv2.THRESH_BINARY_INV)[1]\n",
    "    return img"
   ]
  },
  {
   "cell_type": "code",
   "execution_count": 4,
   "metadata": {},
   "outputs": [],
   "source": [
    "def read_imgs(path, process=True):\n",
    "    filenames = os.listdir(path)\n",
    "    if process:\n",
    "        imgs = [process_img(path + name) for name in filenames if not 'ipynb' in name]\n",
    "    else:\n",
    "        imgs = [cv2.imread(path + name) for name in filenames if not 'ipynb' in name]\n",
    "    return imgs"
   ]
  },
  {
   "cell_type": "code",
   "execution_count": 5,
   "metadata": {},
   "outputs": [],
   "source": [
    "def read_one_img(path):\n",
    "    img = cv2.imread(path)\n",
    "    img = cv2.cvtColor(img, cv2.COLOR_BGR2GRAY)\n",
    "    img = cv2.threshold(img, 180, 255, cv2.THRESH_BINARY_INV)[1]\n",
    "    img = cv2.resize(img, (28, 28))\n",
    "    \n",
    "    return img"
   ]
  },
  {
   "cell_type": "code",
   "execution_count": 6,
   "metadata": {},
   "outputs": [],
   "source": [
    "def get_accuracy(model, imgs, words):\n",
    "    correct = 0\n",
    "    wrong = 0\n",
    "    imgs = []\n",
    "    for i, example in enumerate(words):\n",
    "        for word, (x, y, w, h) in enumerate(example):\n",
    "            temp_img = imgs[i][y:y+h, x:x+w]\n",
    "#             print(temp_img)\n",
    "            temp_img = resize(imgs[i], (x, y, w, h))\n",
    "            temp_img = normalize_images(temp_img)\n",
    "            \n",
    "            if predicted == word:\n",
    "                correct += 1\n",
    "            else:\n",
    "                wrong += 1\n",
    "                \n",
    "    accuracy = correct / (correct+wrong)\n",
    "    return accuracy"
   ]
  },
  {
   "cell_type": "code",
   "execution_count": 7,
   "metadata": {},
   "outputs": [],
   "source": [
    "class Dataset:\n",
    "    def __init__(self):\n",
    "        self._path = 'course_project/train/{}/{}.jpg'\n",
    "        self._font_names = [ name for name in os.listdir('course_project/train/') if '.' not in name]\n",
    "        self._indxs = np.zeros((49, 88))\n",
    "        self._indxs[:] = np.arange(88)\n",
    "        self._last_batch = None\n",
    "        \n",
    "    def gen_batches(self, seed=None):\n",
    "        np.random.seed(seed)\n",
    "        for row in range(49):\n",
    "            self._indxs[row] = np.random.randint(49, size=88)\n",
    "        self._last_batch = 0\n",
    "    \n",
    "    def get_batch(self):\n",
    "        X = np.zeros((88, 28, 28, 1))\n",
    "        y = np.zeros((88, 62))\n",
    "\n",
    "        indx = 0\n",
    "        for j, val in enumerate(self._indxs[self._last_batch+1]):\n",
    "            path = self._path.format(self._font_names[int(val)], alphabet[j])\n",
    "            X[indx] = read_one_img(path).reshape((28, 28, 1))\n",
    "            y[indx][temp[j]] = 1\n",
    "                \n",
    "            indx += 1\n",
    "        self._last_batch += 1\n",
    "        \n",
    "        indxs = np.random.permutation(88)\n",
    "        \n",
    "        return X[indxs], y[indxs]"
   ]
  },
  {
   "cell_type": "code",
   "execution_count": 32,
   "metadata": {},
   "outputs": [],
   "source": [
    "path = 'course_project/test/x_test/'\n",
    "imgs = read_imgs(path)\n",
    "originals = read_imgs(path, process=False)"
   ]
  },
  {
   "cell_type": "code",
   "execution_count": 9,
   "metadata": {},
   "outputs": [
    {
     "name": "stdout",
     "output_type": "stream",
     "text": [
      "CPU times: user 63.6 ms, sys: 2.35 ms, total: 65.9 ms\n",
      "Wall time: 65.6 ms\n"
     ]
    }
   ],
   "source": [
    "%%time\n",
    "words = []\n",
    "# chars = []\n",
    "for img in imgs:\n",
    "    temp_words = get_words(img)\n",
    "#     chars.append(get_chars(img, temp_words))\n",
    "    words.append(temp_words)"
   ]
  },
  {
   "cell_type": "code",
   "execution_count": 10,
   "metadata": {},
   "outputs": [],
   "source": [
    "path_to_save = 'course_project/tested/'\n",
    "for i, item in enumerate(words):\n",
    "    temp_img = originals[i].copy()\n",
    "    for (x, y, w, h) in item:\n",
    "        cv2.rectangle(temp_img, (x, y), (x+w, y+h), (0, 255, 0))\n",
    "        save_img(path_to_save, temp_img, str(i)+'.jpg')"
   ]
  },
  {
   "cell_type": "code",
   "execution_count": 17,
   "metadata": {},
   "outputs": [
    {
     "name": "stdout",
     "output_type": "stream",
     "text": [
      "Predicted: O\n"
     ]
    },
    {
     "data": {
      "image/png": "[encoded data removed]",
      "text/plain": [
       "<Figure size 432x288 with 1 Axes>"
      ]
     },
     "metadata": {
      "needs_background": "light"
     },
     "output_type": "display_data"
    }
   ],
   "source": [
    "n = 23\n",
    "# word = 23\n",
    "word = 28\n",
    "x, y, w, h = words[n][word]\n",
    "temp = resize(imgs[n], (x, y, w, h))\n",
    "temp = normalize_images(temp)\n",
    "plt.imshow(np.reshape(temp, (28, 28)), cmap='gray')\n",
    "temp = np.reshape(temp, (1, 28, 28, 1))\n",
    "print('Predicted: {}'.format(alphabet2[np.argmax(model.predict(temp))]))"
   ]
  },
  {
   "cell_type": "code",
   "execution_count": 18,
   "metadata": {},
   "outputs": [
    {
     "name": "stdout",
     "output_type": "stream",
     "text": [
      "Predicted: 0\n"
     ]
    },
    {
     "data": {
      "image/png": "[encoded data removed]",
      "text/plain": [
       "<Figure size 432x288 with 1 Axes>"
      ]
     },
     "metadata": {
      "needs_background": "light"
     },
     "output_type": "display_data"
    }
   ],
   "source": [
    "n = 23\n",
    "# word = 23\n",
    "word = 78\n",
    "x, y, w, h = words[n][word]\n",
    "temp = resize(imgs[n], (x, y, w, h))\n",
    "temp = normalize_images(temp)\n",
    "plt.imshow(np.reshape(temp, (28, 28)), cmap='gray')\n",
    "temp = np.reshape(temp, (1, 28, 28, 1))\n",
    "print('Predicted: {}'.format(alphabet2[np.argmax(model.predict(temp))]))"
   ]
  },
  {
   "cell_type": "code",
   "execution_count": null,
   "metadata": {},
   "outputs": [],
   "source": []
  }
 ],
 "metadata": {
  "kernelspec": {
   "display_name": "ml",
   "language": "python",
   "name": "ml"
  },
  "language_info": {
   "codemirror_mode": {
    "name": "ipython",
    "version": 3
   },
   "file_extension": ".py",
   "mimetype": "text/x-python",
   "name": "python",
   "nbconvert_exporter": "python",
   "pygments_lexer": "ipython3",
   "version": "3.7.3"
  }
 },
 "nbformat": 4,
 "nbformat_minor": 2
}
