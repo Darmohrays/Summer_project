{
 "cells": [
  {
   "cell_type": "code",
   "execution_count": 130,
   "metadata": {},
   "outputs": [],
   "source": [
    "import matplotlib.pyplot as plt\n",
    "import cv2\n",
    "import numpy as np\n",
    "import os\n",
    "import sys\n",
    "from IPython.display import clear_output\n",
    "import pandas as pd\n",
    "import random\n",
    "from utils import get_chars, get_words, save_img, resize, normalize_images\n",
    "from highlight import HighlightWords\n",
    "from keras.models import load_model"
   ]
  },
  {
   "cell_type": "code",
   "execution_count": 131,
   "metadata": {},
   "outputs": [],
   "source": [
    "def plot_img(img, figsize=(20, 20)):\n",
    "    plt.figure(figsize=figsize)\n",
    "    plt.imshow(img, cmap='gray')"
   ]
  },
  {
   "cell_type": "code",
   "execution_count": 132,
   "metadata": {},
   "outputs": [],
   "source": [
    "def process_img(img_path):\n",
    "    img = cv2.imread(img_path)\n",
    "    img = cv2.cvtColor(img, cv2.COLOR_BGR2GRAY)\n",
    "    img = cv2.threshold(img, 180, 255, cv2.THRESH_BINARY_INV)[1]\n",
    "    return img"
   ]
  },
  {
   "cell_type": "code",
   "execution_count": 133,
   "metadata": {},
   "outputs": [],
   "source": [
    "def read_imgs(path, process=True):\n",
    "    filenames = os.listdir(path)\n",
    "    if process:\n",
    "        imgs = [process_img(path + name) for name in filenames if not 'ipynb' in name]\n",
    "    else:\n",
    "        imgs = [cv2.imread(path + name) for name in filenames if not 'ipynb' in name]\n",
    "    return imgs"
   ]
  },
  {
   "cell_type": "code",
   "execution_count": 134,
   "metadata": {},
   "outputs": [],
   "source": [
    "def read_one_img(path):\n",
    "    img = cv2.imread(path)\n",
    "    img = cv2.cvtColor(img, cv2.COLOR_BGR2GRAY)\n",
    "    img = cv2.threshold(img, 160, 255, cv2.THRESH_BINARY_INV)[1]\n",
    "    \n",
    "    return img"
   ]
  },
  {
   "cell_type": "code",
   "execution_count": 135,
   "metadata": {},
   "outputs": [],
   "source": [
    "def get_accuracy(model, imgs, words):\n",
    "    correct = 0\n",
    "    wrong = 0\n",
    "    imgs = []\n",
    "    for i, example in enumerate(words):\n",
    "        for word, (x, y, w, h) in enumerate(example):\n",
    "            temp_img = imgs[i][y:y+h, x:x+w]\n",
    "#             print(temp_img)\n",
    "            temp_img = resize(imgs[i], (x, y, w, h))\n",
    "            temp_img = normalize_images(temp_img)\n",
    "            \n",
    "            if predicted == word:\n",
    "                correct += 1\n",
    "            else:\n",
    "                wrong += 1\n",
    "                \n",
    "    accuracy = correct / (correct+wrong)\n",
    "    return accuracy"
   ]
  },
  {
   "cell_type": "code",
   "execution_count": 136,
   "metadata": {},
   "outputs": [],
   "source": [
    "class Dataset:\n",
    "    def __init__(self):\n",
    "        self._path = 'course_project/train/{}/{}.jpg'\n",
    "        self._font_names = [ name for name in os.listdir('course_project/train/') if '.' not in name]\n",
    "        self._indxs = np.zeros((49, 88))\n",
    "        self._indxs[:] = np.arange(88)\n",
    "        self._last_batch = None\n",
    "        \n",
    "    def gen_batches(self, seed=None):\n",
    "        np.random.seed(seed)\n",
    "        for row in range(49):\n",
    "            self._indxs[row] = np.random.randint(49, size=88)\n",
    "        self._last_batch = 0\n",
    "    \n",
    "    def get_batch(self):\n",
    "        X = np.zeros((88, 28, 28, 1))\n",
    "        y = np.zeros((88, 62))\n",
    "\n",
    "        indx = 0\n",
    "        for j, val in enumerate(self._indxs[self._last_batch+1]):\n",
    "            path = self._path.format(self._font_names[int(val)], alphabet[j])\n",
    "            X[indx] = read_one_img(path).reshape((28, 28, 1))\n",
    "            y[indx][temp[j]] = 1\n",
    "                \n",
    "            indx += 1\n",
    "        self._last_batch += 1\n",
    "        \n",
    "        indxs = np.random.permutation(88)\n",
    "        \n",
    "        return X[indxs], y[indxs]"
   ]
  },
  {
   "cell_type": "code",
   "execution_count": 137,
   "metadata": {},
   "outputs": [],
   "source": [
    "def get_words1(img):\n",
    "    maxs = np.max(img, axis=1) # Take \n",
    "    indxs_y = np.where(maxs[:-1] != maxs[1:])[0]\n",
    "    cordinates = [] # (x, y, w, h)\n",
    "    for indx_y in range(0, len(indxs_y)-1, 2):\n",
    "        row = img[indxs_y[indx_y]:indxs_y[indx_y+1]]\n",
    "#         print(indxs_y[indx_y+1] - indxs_y[indx_y])\n",
    "#         kernel_x = (indxs_y[indx_y+1] - indxs_y[indx_y]) // 3\n",
    "#         kernel_x += int(np.sqrt(kernel_x))\n",
    "#         print(kernel_x)\n",
    "#         kernel = np.ones((2, min(15, kernel_x)), np.uint8)\n",
    "#         dilated = cv2.dilate(row, kernel, iterations=1)\n",
    "        maxs1 = np.max(row, axis=0)\n",
    "        indxs_x = np.where(maxs1[:-1] != maxs1[1:])[0]\n",
    "        for indx_x in range(0, len(indxs_x)-1, 2):\n",
    "            cordinates.append((\n",
    "                indxs_x[indx_x],\n",
    "                indxs_y[indx_y],\n",
    "                indxs_x[indx_x+1] - indxs_x[indx_x],\n",
    "                indxs_y[indx_y+1] - indxs_y[indx_y]\n",
    "            ))\n",
    "            \n",
    "    return cordinates"
   ]
  },
  {
   "cell_type": "code",
   "execution_count": 138,
   "metadata": {},
   "outputs": [],
   "source": [
    "path = 'course_project/test/x_test/'\n",
    "filenames = os.listdir(path)\n",
    "imgs = read_imgs(path)\n",
    "originals = read_imgs(path, process=False)"
   ]
  },
  {
   "cell_type": "code",
   "execution_count": 128,
   "metadata": {},
   "outputs": [
    {
     "name": "stdout",
     "output_type": "stream",
     "text": [
      "CPU times: user 83.3 ms, sys: 3.01 ms, total: 86.3 ms\n",
      "Wall time: 85.9 ms\n"
     ]
    }
   ],
   "source": [
    "%%time\n",
    "words = []\n",
    "# chars = []\n",
    "for img in imgs:\n",
    "    temp_words = get_words1(img)\n",
    "#     chars.append(get_chars(img, temp_words))\n",
    "    words.append(temp_words)"
   ]
  },
  {
   "cell_type": "code",
   "execution_count": 129,
   "metadata": {},
   "outputs": [],
   "source": [
    "path_to_save = 'course_project/tested/'\n",
    "for i, item in enumerate(words):\n",
    "    temp_img = originals[i].copy()\n",
    "    for (x, y, w, h) in item:\n",
    "        cv2.rectangle(temp_img, (x, y), (x+w, y+h), (0, 255, 0))\n",
    "        save_img(path_to_save, temp_img, str(i)+'.jpg')"
   ]
  },
  {
   "cell_type": "code",
   "execution_count": 78,
   "metadata": {},
   "outputs": [
    {
     "name": "stdout",
     "output_type": "stream",
     "text": [
      "23\n",
      "3\n",
      "24\n",
      "4\n",
      "23\n",
      "3\n",
      "24\n",
      "4\n",
      "23\n",
      "3\n",
      "24\n",
      "4\n",
      "24\n",
      "4\n",
      "23\n",
      "3\n",
      "23\n",
      "3\n",
      "23\n",
      "3\n",
      "23\n",
      "3\n",
      "23\n",
      "3\n",
      "24\n",
      "4\n",
      "23\n",
      "3\n",
      "24\n",
      "4\n",
      "24\n",
      "4\n",
      "24\n",
      "4\n",
      "23\n",
      "3\n",
      "19\n",
      "19\n"
     ]
    },
    {
     "data": {
      "image/png": "[encoded data removed]",
      "text/plain": [
       "<Figure size 1440x1440 with 1 Axes>"
      ]
     },
     "metadata": {
      "needs_background": "light"
     },
     "output_type": "display_data"
    }
   ],
   "source": [
    "img = read_one_img('course_project/test/x_test/4.jpg')\n",
    "words = get_words1(img)\n",
    "plot_img(img)"
   ]
  },
  {
   "cell_type": "code",
   "execution_count": 64,
   "metadata": {},
   "outputs": [
    {
     "ename": "NameError",
     "evalue": "name 'normalize_images' is not defined",
     "output_type": "error",
     "traceback": [
      "\u001b[0;31m---------------------------------------------------------------------------\u001b[0m",
      "\u001b[0;31mNameError\u001b[0m                                 Traceback (most recent call last)",
      "\u001b[0;32m<ipython-input-64-e0a65ede7019>\u001b[0m in \u001b[0;36m<module>\u001b[0;34m\u001b[0m\n\u001b[1;32m      4\u001b[0m \u001b[0mx\u001b[0m\u001b[0;34m,\u001b[0m \u001b[0my\u001b[0m\u001b[0;34m,\u001b[0m \u001b[0mw\u001b[0m\u001b[0;34m,\u001b[0m \u001b[0mh\u001b[0m \u001b[0;34m=\u001b[0m \u001b[0mwords\u001b[0m\u001b[0;34m[\u001b[0m\u001b[0mn\u001b[0m\u001b[0;34m]\u001b[0m\u001b[0;34m[\u001b[0m\u001b[0mword\u001b[0m\u001b[0;34m]\u001b[0m\u001b[0;34m\u001b[0m\u001b[0;34m\u001b[0m\u001b[0m\n\u001b[1;32m      5\u001b[0m \u001b[0mtemp\u001b[0m \u001b[0;34m=\u001b[0m \u001b[0mresize\u001b[0m\u001b[0;34m(\u001b[0m\u001b[0mimgs\u001b[0m\u001b[0;34m[\u001b[0m\u001b[0mn\u001b[0m\u001b[0;34m]\u001b[0m\u001b[0;34m,\u001b[0m \u001b[0;34m(\u001b[0m\u001b[0mx\u001b[0m\u001b[0;34m,\u001b[0m \u001b[0my\u001b[0m\u001b[0;34m,\u001b[0m \u001b[0mw\u001b[0m\u001b[0;34m,\u001b[0m \u001b[0mh\u001b[0m\u001b[0;34m)\u001b[0m\u001b[0;34m)\u001b[0m\u001b[0;34m\u001b[0m\u001b[0;34m\u001b[0m\u001b[0m\n\u001b[0;32m----> 6\u001b[0;31m \u001b[0mtemp\u001b[0m \u001b[0;34m=\u001b[0m \u001b[0mnormalize_images\u001b[0m\u001b[0;34m(\u001b[0m\u001b[0mtemp\u001b[0m\u001b[0;34m)\u001b[0m\u001b[0;34m\u001b[0m\u001b[0;34m\u001b[0m\u001b[0m\n\u001b[0m\u001b[1;32m      7\u001b[0m \u001b[0mplt\u001b[0m\u001b[0;34m.\u001b[0m\u001b[0mimshow\u001b[0m\u001b[0;34m(\u001b[0m\u001b[0mnp\u001b[0m\u001b[0;34m.\u001b[0m\u001b[0mreshape\u001b[0m\u001b[0;34m(\u001b[0m\u001b[0mtemp\u001b[0m\u001b[0;34m,\u001b[0m \u001b[0;34m(\u001b[0m\u001b[0;36m28\u001b[0m\u001b[0;34m,\u001b[0m \u001b[0;36m28\u001b[0m\u001b[0;34m)\u001b[0m\u001b[0;34m)\u001b[0m\u001b[0;34m,\u001b[0m \u001b[0mcmap\u001b[0m\u001b[0;34m=\u001b[0m\u001b[0;34m'gray'\u001b[0m\u001b[0;34m)\u001b[0m\u001b[0;34m\u001b[0m\u001b[0;34m\u001b[0m\u001b[0m\n\u001b[1;32m      8\u001b[0m \u001b[0mtemp\u001b[0m \u001b[0;34m=\u001b[0m \u001b[0mnp\u001b[0m\u001b[0;34m.\u001b[0m\u001b[0mreshape\u001b[0m\u001b[0;34m(\u001b[0m\u001b[0mtemp\u001b[0m\u001b[0;34m,\u001b[0m \u001b[0;34m(\u001b[0m\u001b[0;36m1\u001b[0m\u001b[0;34m,\u001b[0m \u001b[0;36m28\u001b[0m\u001b[0;34m,\u001b[0m \u001b[0;36m28\u001b[0m\u001b[0;34m,\u001b[0m \u001b[0;36m1\u001b[0m\u001b[0;34m)\u001b[0m\u001b[0;34m)\u001b[0m\u001b[0;34m\u001b[0m\u001b[0;34m\u001b[0m\u001b[0m\n",
      "\u001b[0;31mNameError\u001b[0m: name 'normalize_images' is not defined"
     ]
    }
   ],
   "source": [
    "n = 23\n",
    "# word = 23\n",
    "word = 28\n",
    "x, y, w, h = words[n][word]\n",
    "temp = resize(imgs[n], (x, y, w, h))\n",
    "temp = normalize_images(temp)\n",
    "plt.imshow(np.reshape(temp, (28, 28)), cmap='gray')\n",
    "temp = np.reshape(temp, (1, 28, 28, 1))\n",
    "print('Predicted: {}'.format(alphabet2[np.argmax(model.predict(temp))]))"
   ]
  },
  {
   "cell_type": "code",
   "execution_count": 18,
   "metadata": {},
   "outputs": [
    {
     "name": "stdout",
     "output_type": "stream",
     "text": [
      "Predicted: 0\n"
     ]
    },
    {
     "data": {
      "image/png": "[encoded data removed]",
      "text/plain": [
       "<Figure size 432x288 with 1 Axes>"
      ]
     },
     "metadata": {
      "needs_background": "light"
     },
     "output_type": "display_data"
    }
   ],
   "source": [
    "n = 23\n",
    "# word = 23\n",
    "word = 78\n",
    "x, y, w, h = words[n][word]\n",
    "temp = resize(imgs[n], (x, y, w, h))\n",
    "temp = normalize_images(temp)\n",
    "plt.imshow(np.reshape(temp, (28, 28)), cmap='gray')\n",
    "temp = np.reshape(temp, (1, 28, 28, 1))\n",
    "print('Predicted: {}'.format(alphabet2[np.argmax(model.predict(temp))]))"
   ]
  },
  {
   "cell_type": "code",
   "execution_count": null,
   "metadata": {},
   "outputs": [],
   "source": []
  }
 ],
 "metadata": {
  "kernelspec": {
   "display_name": "ml",
   "language": "python",
   "name": "ml"
  },
  "language_info": {
   "codemirror_mode": {
    "name": "ipython",
    "version": 3
   },
   "file_extension": ".py",
   "mimetype": "text/x-python",
   "name": "python",
   "nbconvert_exporter": "python",
   "pygments_lexer": "ipython3",
   "version": "3.7.3"
  }
 },
 "nbformat": 4,
 "nbformat_minor": 2
}
