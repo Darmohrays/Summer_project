{
 "cells": [
  {
   "cell_type": "code",
   "execution_count": 1,
   "metadata": {},
   "outputs": [
    {
     "name": "stderr",
     "output_type": "stream",
     "text": [
      "Using TensorFlow backend.\n"
     ]
    }
   ],
   "source": [
    "import matplotlib.pyplot as plt\n",
    "import cv2\n",
    "import numpy as np\n",
    "import os\n",
    "import sys\n",
    "from IPython.display import clear_output\n",
    "import pandas as pd\n",
    "import random\n",
    "from utils import get_chars, get_words\n",
    "from highlight import HighlightWords\n",
    "from keras.models import load_model"
   ]
  },
  {
   "cell_type": "code",
   "execution_count": 2,
   "metadata": {},
   "outputs": [],
   "source": [
    "def plot_img(img, figsize=(20, 20)):\n",
    "    plt.figure(figsize=figsize)\n",
    "    plt.imshow(img, cmap='gray')"
   ]
  },
  {
   "cell_type": "code",
   "execution_count": 3,
   "metadata": {},
   "outputs": [],
   "source": [
    "def process_img(img_path):\n",
    "    img = cv2.imread(img_path)\n",
    "    img = cv2.cvtColor(img, cv2.COLOR_BGR2GRAY)\n",
    "    img = cv2.threshold(img, 180, 255, cv2.THRESH_BINARY_INV)[1]\n",
    "    return img"
   ]
  },
  {
   "cell_type": "code",
   "execution_count": 4,
   "metadata": {},
   "outputs": [],
   "source": [
    "def read_imgs(path, process=True):\n",
    "    filenames = os.listdir(path)\n",
    "    if process:\n",
    "        imgs = [process_img(path + name) for name in filenames if '.jpg' in name or '.png' in name]\n",
    "    else:\n",
    "        imgs = [cv2.imread(path + name) for name in filenames if '.jpg' in name or '.png' in name]\n",
    "    return imgs"
   ]
  },
  {
   "cell_type": "code",
   "execution_count": 5,
   "metadata": {},
   "outputs": [],
   "source": [
    "def read_one_img(path):\n",
    "    img = cv2.imread(path)\n",
    "    img = cv2.cvtColor(img, cv2.COLOR_BGR2GRAY)\n",
    "    img = cv2.threshold(img, 180, 255, cv2.THRESH_BINARY_INV)[1]\n",
    "    img = cv2.resize(img, (28, 28))\n",
    "    \n",
    "    return img"
   ]
  },
  {
   "cell_type": "code",
   "execution_count": 6,
   "metadata": {},
   "outputs": [],
   "source": [
    "def gen_alphabet():\n",
    "    small = [chr(i) for i in range(ord('a'), ord('z')+1)]\n",
    "    big = [chr(i)+'_' for i in range(ord('A'), ord('Z')+1)]\n",
    "    flatten = lambda l: [item for sublist in l for item in sublist]\n",
    "    alphabet = flatten(zip(big, small))\n",
    "    symbols = ['point', 'dash', 'comma', '!', '?', 'colon', 'semicolon', '>', \n",
    "               '<', 'equals', 'ampersant', 'hash', 'dollar', 'percent', '^',\n",
    "               'and', 'asterics', 'round_open', 'round_close',\n",
    "              'plus', 'backslash', 'slash', 'square_open', 'square_close', 'curly_open', 'curly_close']\n",
    "    numbers = range(10)\n",
    "    for symbol in symbols:\n",
    "        alphabet.append(symbol)\n",
    "    for number in numbers:\n",
    "        alphabet.append(number)\n",
    "    \n",
    "    return alphabet\n",
    "alphabet = gen_alphabet()"
   ]
  },
  {
   "cell_type": "code",
   "execution_count": 7,
   "metadata": {},
   "outputs": [],
   "source": [
    "def indxs_to_alphabet():\n",
    "    alphabet = gen_alphabet()\n",
    "    res = []\n",
    "    indx = 0\n",
    "    for i in range(len(alphabet)):\n",
    "        if i <= 51:\n",
    "            if not i % 2:\n",
    "                res.append(indx)\n",
    "                res.append(indx)\n",
    "                indx += 1\n",
    "        else:\n",
    "            res.append(indx)\n",
    "            indx += 1\n",
    "    \n",
    "    alphabet2 = [chr(i) for i in range(ord('A'), ord('Z')+1)]\n",
    "    symbols = ['point', 'dash', 'comma', '!', '?', 'colon', 'semicolon', '>', \n",
    "                   '<', 'equals', 'ampersant', 'hash', 'dollar', 'percent', '^',\n",
    "                   'and', 'asterics', 'round_open', 'round_close',\n",
    "                  'plus', 'backslash', 'slash', 'square_open', 'square_close', 'curly_open', 'curly_close']\n",
    "    numbers = range(10)\n",
    "    for symbol in symbols:\n",
    "        alphabet2.append(symbol)\n",
    "    for number in numbers:\n",
    "        alphabet2.append(number)\n",
    "    \n",
    "    return res, alphabet2\n",
    "\n",
    "res, alphabet2 = indxs_to_alphabet()"
   ]
  },
  {
   "cell_type": "code",
   "execution_count": 8,
   "metadata": {},
   "outputs": [],
   "source": [
    "def normalize_images(images):\n",
    "    H, W = 28, 28\n",
    "    images = np.reshape(images, (-1, H * W))\n",
    "    numerator = images - np.expand_dims(np.mean(images, 1), 1)\n",
    "    denominator = np.expand_dims(np.std(images, 1), 1)\n",
    "    return np.reshape(numerator / (denominator + 1e-7), (-1, H, W))"
   ]
  },
  {
   "cell_type": "code",
   "execution_count": 9,
   "metadata": {},
   "outputs": [],
   "source": [
    "def resize(img, cordinates):\n",
    "    [x, y, w, h] = cordinates\n",
    "    temp_img = img[y:y+h, x:x+w]\n",
    "    \n",
    "    max_ = max(w, h)\n",
    "    temp_img = cv2.copyMakeBorder(temp_img, (max_-h)//2, (max_-h)//2, (max_-w)//2, (max_-w)//2,\n",
    "                                  cv2.BORDER_CONSTANT, value=(0, 0, 0))\n",
    "    \n",
    "    resized = cv2.resize(temp_img, (28, 28), interpolation=cv2.INTER_CUBIC)\n",
    "    return resized"
   ]
  },
  {
   "cell_type": "code",
   "execution_count": 10,
   "metadata": {},
   "outputs": [],
   "source": [
    "def get_accuracy(model, imgs, words):\n",
    "    correct = 0\n",
    "    wrong = 0\n",
    "    imgs = []\n",
    "    for i, example in enumerate(words):\n",
    "        for word, (x, y, w, h) in enumerate(example):\n",
    "            temp_img = imgs[i][y:y+h, x:x+w]\n",
    "#             print(temp_img)\n",
    "            temp_img = resize(imgs[i], (x, y, w, h))\n",
    "            temp_img = normalize_images(temp_img)\n",
    "            \n",
    "            if predicted == word:\n",
    "                correct += 1\n",
    "            else:\n",
    "                wrong += 1\n",
    "                \n",
    "    accuracy = correct / (correct+wrong)\n",
    "    return accuracy"
   ]
  },
  {
   "cell_type": "code",
   "execution_count": 11,
   "metadata": {},
   "outputs": [],
   "source": [
    "class Dataset:\n",
    "    def __init__(self):\n",
    "        self._path = 'course_project/train/{}/{}.jpg'\n",
    "        self._font_names = [ name for name in os.listdir('course_project/train/') if '.' not in name]\n",
    "        self._indxs = np.zeros((49, 88))\n",
    "        self._indxs[:] = np.arange(88)\n",
    "        self._last_batch = None\n",
    "        \n",
    "    def gen_batches(self, seed=None):\n",
    "        np.random.seed(seed)\n",
    "        for row in range(49):\n",
    "            self._indxs[row] = np.random.randint(49, size=88)\n",
    "        self._last_batch = 0\n",
    "    \n",
    "    def get_batch(self):\n",
    "        X = np.zeros((88, 28, 28, 1))\n",
    "        y = np.zeros((88, 62))\n",
    "\n",
    "        indx = 0\n",
    "        for j, val in enumerate(self._indxs[self._last_batch+1]):\n",
    "            path = self._path.format(self._font_names[int(val)], alphabet[j])\n",
    "            X[indx] = read_one_img(path).reshape((28, 28, 1))\n",
    "            y[indx][temp[j]] = 1\n",
    "                \n",
    "            indx += 1\n",
    "        self._last_batch += 1\n",
    "        \n",
    "        indxs = np.random.permutation(88)\n",
    "        \n",
    "        return X[indxs], y[indxs]"
   ]
  },
  {
   "cell_type": "code",
   "execution_count": 12,
   "metadata": {},
   "outputs": [
    {
     "name": "stderr",
     "output_type": "stream",
     "text": [
      "WARNING: Logging before flag parsing goes to stderr.\n",
      "W0826 15:56:33.960611 4520105408 deprecation_wrapper.py:119] From /Users/svatoslavdarmograj/Documents/ml/ml/lib/python3.7/site-packages/keras/backend/tensorflow_backend.py:517: The name tf.placeholder is deprecated. Please use tf.compat.v1.placeholder instead.\n",
      "\n",
      "W0826 15:56:34.050845 4520105408 deprecation_wrapper.py:119] From /Users/svatoslavdarmograj/Documents/ml/ml/lib/python3.7/site-packages/keras/backend/tensorflow_backend.py:4138: The name tf.random_uniform is deprecated. Please use tf.random.uniform instead.\n",
      "\n",
      "W0826 15:56:34.121949 4520105408 deprecation_wrapper.py:119] From /Users/svatoslavdarmograj/Documents/ml/ml/lib/python3.7/site-packages/keras/backend/tensorflow_backend.py:245: The name tf.get_default_graph is deprecated. Please use tf.compat.v1.get_default_graph instead.\n",
      "\n",
      "W0826 15:56:34.122524 4520105408 deprecation_wrapper.py:119] From /Users/svatoslavdarmograj/Documents/ml/ml/lib/python3.7/site-packages/keras/backend/tensorflow_backend.py:174: The name tf.get_default_session is deprecated. Please use tf.compat.v1.get_default_session instead.\n",
      "\n",
      "W0826 15:56:34.123014 4520105408 deprecation_wrapper.py:119] From /Users/svatoslavdarmograj/Documents/ml/ml/lib/python3.7/site-packages/keras/backend/tensorflow_backend.py:181: The name tf.ConfigProto is deprecated. Please use tf.compat.v1.ConfigProto instead.\n",
      "\n",
      "W0826 15:56:34.147785 4520105408 deprecation_wrapper.py:119] From /Users/svatoslavdarmograj/Documents/ml/ml/lib/python3.7/site-packages/keras/backend/tensorflow_backend.py:1834: The name tf.nn.fused_batch_norm is deprecated. Please use tf.compat.v1.nn.fused_batch_norm instead.\n",
      "\n",
      "W0826 15:56:54.457487 4520105408 deprecation_wrapper.py:119] From /Users/svatoslavdarmograj/Documents/ml/ml/lib/python3.7/site-packages/keras/optimizers.py:790: The name tf.train.Optimizer is deprecated. Please use tf.compat.v1.train.Optimizer instead.\n",
      "\n",
      "W0826 15:56:54.643493 4520105408 deprecation.py:323] From /Users/svatoslavdarmograj/Documents/ml/ml/lib/python3.7/site-packages/tensorflow/python/ops/math_grad.py:1250: add_dispatch_support.<locals>.wrapper (from tensorflow.python.ops.array_ops) is deprecated and will be removed in a future version.\n",
      "Instructions for updating:\n",
      "Use tf.where in 2.0, which has the same broadcast rule as np.where\n"
     ]
    }
   ],
   "source": [
    "model = load_model('course_project/model_more_classes2.h5')"
   ]
  },
  {
   "cell_type": "code",
   "execution_count": 12,
   "metadata": {},
   "outputs": [],
   "source": [
    "path = 'course_project/alphabet/'\n",
    "imgs = read_imgs(path)"
   ]
  },
  {
   "cell_type": "code",
   "execution_count": 13,
   "metadata": {},
   "outputs": [
    {
     "name": "stdout",
     "output_type": "stream",
     "text": [
      "CPU times: user 42.6 ms, sys: 1.94 ms, total: 44.5 ms\n",
      "Wall time: 53.7 ms\n"
     ]
    }
   ],
   "source": [
    "%%time\n",
    "words = []\n",
    "# chars = []\n",
    "for img in imgs:\n",
    "    temp_words = get_words(img)\n",
    "#     chars.append(get_chars(img, temp_words))\n",
    "    words.append(temp_words)"
   ]
  },
  {
   "cell_type": "code",
   "execution_count": 15,
   "metadata": {},
   "outputs": [],
   "source": [
    "alphabet2 = [chr(i) for i in range(ord('A'), ord('Z')+1)]\n",
    "symbols = [\".\", \"-\", \",\", \"!\", \"?\", \":\", \";\", \">\", \n",
    "               \"<\", \"=\", \"@\", \"#\", \"$\", \"%\", \"^\",\n",
    "               \"&\", \"*\", \"(\", \")\",\n",
    "              \"+\", \"\\\\\", \"/\", \"[\", \"]\", \"{\", \"}\"]\n",
    "numbers = range(10)\n",
    "for symbol in symbols:\n",
    "    alphabet2.append(symbol)\n",
    "for number in numbers:\n",
    "    alphabet2.append(number)"
   ]
  },
  {
   "cell_type": "code",
   "execution_count": 16,
   "metadata": {},
   "outputs": [],
   "source": [
    "# path_to_save = 'course_project/train/{}/'\n",
    "# filenames = [name for name in os.listdir('course_project/alphabet/') if 'DS' not in name]\n",
    "# for i, font in enumerate(words):\n",
    "#     for word, cordinates in zip(alphabet, font):\n",
    "#         img = resize(imgs[i], cordinates)\n",
    "#         save_img(path_to_save.format(filenames[i][:-4]), img, str(word)+'.jpg')"
   ]
  },
  {
   "cell_type": "code",
   "execution_count": 17,
   "metadata": {},
   "outputs": [
    {
     "name": "stdout",
     "output_type": "stream",
     "text": [
      "Predicted: O\n"
     ]
    },
    {
     "data": {
      "image/png": "[encoded data removed]",
      "text/plain": [
       "<Figure size 432x288 with 1 Axes>"
      ]
     },
     "metadata": {
      "needs_background": "light"
     },
     "output_type": "display_data"
    }
   ],
   "source": [
    "n = 23\n",
    "# word = 23\n",
    "word = 28\n",
    "x, y, w, h = words[n][word]\n",
    "temp = resize(imgs[n], (x, y, w, h))\n",
    "temp = normalize_images(temp)\n",
    "plt.imshow(np.reshape(temp, (28, 28)), cmap='gray')\n",
    "temp = np.reshape(temp, (1, 28, 28, 1))\n",
    "print('Predicted: {}'.format(alphabet2[np.argmax(model.predict(temp))]))"
   ]
  },
  {
   "cell_type": "code",
   "execution_count": 18,
   "metadata": {},
   "outputs": [
    {
     "name": "stdout",
     "output_type": "stream",
     "text": [
      "Predicted: 0\n"
     ]
    },
    {
     "data": {
      "image/png": "[encoded data removed]",
      "text/plain": [
       "<Figure size 432x288 with 1 Axes>"
      ]
     },
     "metadata": {
      "needs_background": "light"
     },
     "output_type": "display_data"
    }
   ],
   "source": [
    "n = 23\n",
    "# word = 23\n",
    "word = 78\n",
    "x, y, w, h = words[n][word]\n",
    "temp = resize(imgs[n], (x, y, w, h))\n",
    "temp = normalize_images(temp)\n",
    "plt.imshow(np.reshape(temp, (28, 28)), cmap='gray')\n",
    "temp = np.reshape(temp, (1, 28, 28, 1))\n",
    "print('Predicted: {}'.format(alphabet2[np.argmax(model.predict(temp))]))"
   ]
  },
  {
   "cell_type": "code",
   "execution_count": 67,
   "metadata": {},
   "outputs": [],
   "source": [
    "class HighlightWords:\n",
    "    def __init__(self, model):\n",
    "#         self._model = load_model('course_project/model_more_classes2.h5');\n",
    "        self._model = model\n",
    "        self._orig_img = None\n",
    "        self._text = ''\n",
    "        self._bboxes = None\n",
    "        self._most_frequent_word = None\n",
    "#         self._alphabet = gen_alphabet()\n",
    "        self._alphabet = alphabet2\n",
    "        print('Initialized')\n",
    "        \n",
    "    def _find_most_frequent(self):\n",
    "        pass\n",
    "    \n",
    "    def _get_bboxes(self):\n",
    "        words = get_words(self._thresholded_img)\n",
    "        chars = get_chars(self._thresholded_img, words)\n",
    "        self._bboxes = chars\n",
    "\n",
    "    def _get_prediction(self):\n",
    "        for i, word in enumerate(self._bboxes.values()):\n",
    "            print('Word: {}'.format(i))\n",
    "            for j, character_bbox in enumerate(word['cordinates']):\n",
    "                img = resize(self._thresholded_img, character_bbox)\n",
    "                img = normalize_images(img)\n",
    "\n",
    "                img = img.reshape((1, 28, 28, 1))\n",
    "                prediction = model.predict(img)\n",
    "                decoded = self._alphabet[np.argmax(prediction)]\n",
    "                \n",
    "                self._text += str(decoded)\n",
    "                \n",
    "            self._text += ' '\n",
    "            \n",
    "            \n",
    "    def fit(self, img):\n",
    "        self._orig_img = img\n",
    "        img = cv2.cvtColor(img, cv2.COLOR_RGB2GRAY)\n",
    "        img = cv2.threshold(img, 180, 255, cv2.THRESH_BINARY_INV)[1]\n",
    "        self._thresholded_img = img\n",
    "        self._get_bboxes()\n",
    "        self._get_prediction()"
   ]
  },
  {
   "cell_type": "code",
   "execution_count": 68,
   "metadata": {},
   "outputs": [
    {
     "name": "stdout",
     "output_type": "stream",
     "text": [
      "Initialized\n",
      "Word: 0\n",
      "Word: 1\n",
      "Word: 2\n",
      "Word: 3\n",
      "Word: 4\n",
      "Word: 5\n",
      "Word: 6\n",
      "Word: 7\n",
      "Word: 8\n",
      "Word: 9\n",
      "Word: 10\n",
      "Word: 11\n",
      "Word: 12\n",
      "Word: 13\n",
      "Word: 14\n",
      "Word: 15\n",
      "Word: 16\n",
      "Word: 17\n",
      "Word: 18\n",
      "Word: 19\n",
      "Word: 20\n",
      "Word: 21\n",
      "Word: 22\n",
      "Word: 23\n",
      "Word: 24\n",
      "Word: 25\n",
      "Word: 26\n",
      "Word: 27\n",
      "Word: 28\n",
      "Word: 29\n",
      "Word: 30\n",
      "Word: 31\n",
      "Word: 32\n",
      "Word: 33\n",
      "Word: 34\n",
      "Word: 35\n",
      "Word: 36\n",
      "Word: 37\n",
      "Word: 38\n",
      "Word: 39\n",
      "Word: 40\n",
      "Word: 41\n",
      "Word: 42\n",
      "Word: 43\n",
      "Word: 44\n",
      "Word: 45\n",
      "Word: 46\n",
      "Word: 47\n",
      "Word: 48\n",
      "Word: 49\n",
      "Word: 50\n",
      "Word: 51\n",
      "Word: 52\n",
      "Word: 53\n",
      "Word: 54\n",
      "Word: 55\n",
      "Word: 56\n",
      "Word: 57\n",
      "Word: 58\n",
      "Word: 59\n",
      "Word: 60\n",
      "Word: 61\n",
      "Word: 62\n",
      "Word: 63\n",
      "Word: 64\n",
      "Word: 65\n",
      "Word: 66\n",
      "Word: 67\n",
      "Word: 68\n",
      "Word: 69\n",
      "Word: 70\n",
      "Word: 71\n",
      "Word: 72\n",
      "Word: 73\n",
      "Word: 74\n",
      "Word: 75\n",
      "Word: 76\n",
      "Word: 77\n",
      "Word: 78\n",
      "Word: 79\n",
      "Word: 80\n",
      "Word: 81\n",
      "Word: 82\n",
      "Word: 83\n",
      "Word: 84\n",
      "Word: 85\n",
      "Word: 86\n",
      "Word: 87\n",
      "Word: 88\n",
      "Word: 89\n",
      "Word: 90\n",
      "Word: 91\n",
      "Word: 92\n",
      "Word: 93\n",
      "Word: 94\n",
      "Word: 95\n",
      "Word: 96\n",
      "Word: 97\n",
      "Word: 98\n",
      "Word: 99\n",
      "Word: 100\n",
      "Word: 101\n",
      "Word: 102\n",
      "Word: 103\n",
      "Word: 104\n",
      "Word: 105\n",
      "Word: 106\n",
      "Word: 107\n",
      "Word: 108\n",
      "Word: 109\n",
      "Word: 110\n",
      "Word: 111\n",
      "Word: 112\n",
      "Word: 113\n",
      "Word: 114\n",
      "Word: 115\n",
      "Word: 116\n",
      "Word: 117\n",
      "Word: 118\n",
      "Word: 119\n",
      "Word: 120\n",
      "Word: 121\n",
      "Word: 122\n",
      "Word: 123\n",
      "Word: 124\n",
      "Word: 125\n",
      "Word: 126\n",
      "Word: 127\n",
      "Word: 128\n",
      "Word: 129\n",
      "Word: 130\n",
      "Word: 131\n",
      "Word: 132\n",
      "Word: 133\n",
      "Word: 134\n",
      "Word: 135\n",
      "Word: 136\n",
      "Word: 137\n",
      "Word: 138\n",
      "Word: 139\n",
      "Word: 140\n",
      "Word: 141\n",
      "Word: 142\n",
      "Word: 143\n",
      "Word: 144\n",
      "Word: 145\n",
      "Word: 146\n",
      "Word: 147\n",
      "Word: 148\n",
      "Word: 149\n",
      "Word: 150\n",
      "Word: 151\n",
      "Word: 152\n",
      "Word: 153\n",
      "Word: 154\n",
      "Word: 155\n",
      "Word: 156\n",
      "Word: 157\n",
      "Word: 158\n",
      "Word: 159\n",
      "Word: 160\n",
      "Word: 161\n",
      "Word: 162\n",
      "Word: 163\n",
      "Word: 164\n",
      "Word: 165\n",
      "CPU times: user 1min 7s, sys: 4.85 s, total: 1min 12s\n",
      "Wall time: 27.6 s\n"
     ]
    }
   ],
   "source": [
    "%%time\n",
    "test_photo = plt.imread('test_photos/5.jpg')\n",
    "# plot_img(test_photo)\n",
    "hw = HighlightWords(model)\n",
    "hw.fit(test_photo)"
   ]
  },
  {
   "cell_type": "code",
   "execution_count": null,
   "metadata": {},
   "outputs": [],
   "source": []
  }
 ],
 "metadata": {
  "kernelspec": {
   "display_name": "ml",
   "language": "python",
   "name": "ml"
  },
  "language_info": {
   "codemirror_mode": {
    "name": "ipython",
    "version": 3
   },
   "file_extension": ".py",
   "mimetype": "text/x-python",
   "name": "python",
   "nbconvert_exporter": "python",
   "pygments_lexer": "ipython3",
   "version": "3.7.3"
  }
 },
 "nbformat": 4,
 "nbformat_minor": 2
}
