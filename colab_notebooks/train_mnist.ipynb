{
  "nbformat": 4,
  "nbformat_minor": 0,
  "metadata": {
    "colab": {
      "name": "train_mnist.ipynb",
      "version": "0.3.2",
      "provenance": []
    },
    "kernelspec": {
      "name": "python3",
      "display_name": "Python 3"
    }
  },
  "cells": [
    {
      "cell_type": "code",
      "metadata": {
        "id": "IRPKPrqA9rXu",
        "colab_type": "code",
        "outputId": "0e78b0fd-70e4-4143-e328-243cf45d28a1",
        "colab": {
          "base_uri": "https://localhost:8080/",
          "height": 34
        }
      },
      "source": [
        "simport cv2\n",
        "import numpy as np\n",
        "import matplotlib.pyplot as plt\n",
        "from keras.callbacks import History\n",
        "from keras.layers import Dense, Conv2D, BatchNormalization, Dropout, Flatten\n",
        "from keras.models import Model, Sequential\n",
        "from keras.losses import categorical_crossentropy\n",
        "from keras import optimizers\n",
        "from keras.datasets import mnist\n",
        "from sklearn.model_selection import train_test_split\n",
        "from keras.utils import to_categorical"
      ],
      "execution_count": 0,
      "outputs": [
        {
          "output_type": "stream",
          "text": [
            "Using TensorFlow backend.\n"
          ],
          "name": "stderr"
        }
      ]
    },
    {
      "cell_type": "code",
      "metadata": {
        "id": "pHemEUbt-rfq",
        "colab_type": "code",
        "outputId": "d32e75bb-6de0-4a73-d8b8-1b9d09d8d221",
        "colab": {
          "base_uri": "https://localhost:8080/",
          "height": 356
        }
      },
      "source": [
        "def create_model():\n",
        "  model = Sequential()\n",
        "  model.add(Conv2D(32,kernel_size=3,activation='relu',input_shape=(28,28,1)))\n",
        "  model.add(BatchNormalization())\n",
        "  model.add(Conv2D(32,kernel_size=3,activation='relu'))\n",
        "  model.add(BatchNormalization())\n",
        "  model.add(Conv2D(32,kernel_size=5,strides=2,padding='same',activation='relu'))\n",
        "  model.add(BatchNormalization())\n",
        "  model.add(Dropout(0.4))\n",
        "\n",
        "  model.add(Conv2D(64,kernel_size=3,activation='relu'))\n",
        "  model.add(BatchNormalization())\n",
        "  model.add(Conv2D(64,kernel_size=3,activation='relu'))\n",
        "  model.add(BatchNormalization())\n",
        "  model.add(Conv2D(64,kernel_size=5,strides=2,padding='same',activation='relu'))\n",
        "  model.add(BatchNormalization())\n",
        "  model.add(Dropout(0.4))\n",
        "\n",
        "  model.add(Flatten())\n",
        "  model.add(Dense(128, activation='relu'))\n",
        "  model.add(BatchNormalization())\n",
        "  model.add(Dropout(0.4))\n",
        "  model.add(Dense(10, activation='softmax'))\n",
        "  \n",
        "  return model\n",
        "\n",
        "model = create_model()\n",
        "model.compile(optimizer=optimizers.Adam(lr=1e-4), loss=\"categorical_crossentropy\", metrics=[\"accuracy\"])\n"
      ],
      "execution_count": 0,
      "outputs": [
        {
          "output_type": "stream",
          "text": [
            "WARNING: Logging before flag parsing goes to stderr.\n",
            "W0829 12:40:12.836206 139861174204288 deprecation_wrapper.py:119] From /usr/local/lib/python3.6/dist-packages/keras/backend/tensorflow_backend.py:74: The name tf.get_default_graph is deprecated. Please use tf.compat.v1.get_default_graph instead.\n",
            "\n",
            "W0829 12:40:12.856344 139861174204288 deprecation_wrapper.py:119] From /usr/local/lib/python3.6/dist-packages/keras/backend/tensorflow_backend.py:517: The name tf.placeholder is deprecated. Please use tf.compat.v1.placeholder instead.\n",
            "\n",
            "W0829 12:40:12.861617 139861174204288 deprecation_wrapper.py:119] From /usr/local/lib/python3.6/dist-packages/keras/backend/tensorflow_backend.py:4138: The name tf.random_uniform is deprecated. Please use tf.random.uniform instead.\n",
            "\n",
            "W0829 12:40:12.888906 139861174204288 deprecation_wrapper.py:119] From /usr/local/lib/python3.6/dist-packages/keras/backend/tensorflow_backend.py:174: The name tf.get_default_session is deprecated. Please use tf.compat.v1.get_default_session instead.\n",
            "\n",
            "W0829 12:40:12.889986 139861174204288 deprecation_wrapper.py:119] From /usr/local/lib/python3.6/dist-packages/keras/backend/tensorflow_backend.py:181: The name tf.ConfigProto is deprecated. Please use tf.compat.v1.ConfigProto instead.\n",
            "\n",
            "W0829 12:40:12.925263 139861174204288 deprecation_wrapper.py:119] From /usr/local/lib/python3.6/dist-packages/keras/backend/tensorflow_backend.py:1834: The name tf.nn.fused_batch_norm is deprecated. Please use tf.compat.v1.nn.fused_batch_norm instead.\n",
            "\n",
            "W0829 12:40:13.158835 139861174204288 deprecation.py:506] From /usr/local/lib/python3.6/dist-packages/keras/backend/tensorflow_backend.py:3445: calling dropout (from tensorflow.python.ops.nn_ops) with keep_prob is deprecated and will be removed in a future version.\n",
            "Instructions for updating:\n",
            "Please use `rate` instead of `keep_prob`. Rate should be set to `rate = 1 - keep_prob`.\n",
            "W0829 12:40:13.564337 139861174204288 deprecation_wrapper.py:119] From /usr/local/lib/python3.6/dist-packages/keras/optimizers.py:790: The name tf.train.Optimizer is deprecated. Please use tf.compat.v1.train.Optimizer instead.\n",
            "\n"
          ],
          "name": "stderr"
        }
      ]
    },
    {
      "cell_type": "code",
      "metadata": {
        "id": "B6h-qjnKK0T2",
        "colab_type": "code",
        "colab": {}
      },
      "source": [
        "(X, y), (X_validate, y_validate) = mnist.load_data()"
      ],
      "execution_count": 0,
      "outputs": []
    },
    {
      "cell_type": "code",
      "metadata": {
        "id": "Rshic7skQH_q",
        "colab_type": "code",
        "colab": {}
      },
      "source": [
        "X_train, X_test, y_train, y_test = train_test_split(X, y, test_size=0.25, random_state=14)"
      ],
      "execution_count": 0,
      "outputs": []
    },
    {
      "cell_type": "code",
      "metadata": {
        "id": "cuDHInRrNb23",
        "colab_type": "code",
        "colab": {}
      },
      "source": [
        "X_train = X_train.astype('float') / 255.0\n",
        "y_train = to_categorical(y_train)\n",
        "X_train = X_train.reshape((-1, 28, 28, 1))\n",
        "\n",
        "\n",
        "X_test = X_test.astype('float') / 255.0\n",
        "y_test = to_categorical(y_test)\n",
        "X_test = X_test.reshape((-1, 28, 28, 1))\n",
        "\n",
        "X_validate = X_validate.astype('float') / 255.0\n",
        "y_validate = to_categorical(y_validate)\n",
        "X_validate = X_validate.reshape((-1, 28, 28, 1))"
      ],
      "execution_count": 0,
      "outputs": []
    },
    {
      "cell_type": "code",
      "metadata": {
        "id": "ns7ObswINeFa",
        "colab_type": "code",
        "outputId": "39719599-d21e-41f7-f38e-173c3902a5aa",
        "colab": {
          "base_uri": "https://localhost:8080/",
          "height": 1000
        }
      },
      "source": [
        "history = History()\n",
        "epochs = 25\n",
        "batch_size = 64\n",
        "model.fit(X_train, y_train, validation_data=(X_test, y_test), batch_size=batch_size, epochs=epochs, callbacks=[history])"
      ],
      "execution_count": 0,
      "outputs": [
        {
          "output_type": "stream",
          "text": [
            "W0829 12:40:14.414423 139861174204288 deprecation.py:323] From /usr/local/lib/python3.6/dist-packages/tensorflow/python/ops/math_grad.py:1250: add_dispatch_support.<locals>.wrapper (from tensorflow.python.ops.array_ops) is deprecated and will be removed in a future version.\n",
            "Instructions for updating:\n",
            "Use tf.where in 2.0, which has the same broadcast rule as np.where\n"
          ],
          "name": "stderr"
        },
        {
          "output_type": "stream",
          "text": [
            "Train on 45000 samples, validate on 15000 samples\n",
            "Epoch 1/25\n",
            "45000/45000 [==============================] - 250s 6ms/step - loss: 0.9094 - acc: 0.7205 - val_loss: 0.2035 - val_acc: 0.9377\n",
            "Epoch 2/25\n",
            "45000/45000 [==============================] - 250s 6ms/step - loss: 0.2405 - acc: 0.9270 - val_loss: 0.1153 - val_acc: 0.9641\n",
            "Epoch 3/25\n",
            "45000/45000 [==============================] - 256s 6ms/step - loss: 0.1523 - acc: 0.9533 - val_loss: 0.0806 - val_acc: 0.9745\n",
            "Epoch 4/25\n",
            "45000/45000 [==============================] - 261s 6ms/step - loss: 0.1128 - acc: 0.9658 - val_loss: 0.0627 - val_acc: 0.9811\n",
            "Epoch 5/25\n",
            "45000/45000 [==============================] - 257s 6ms/step - loss: 0.0886 - acc: 0.9723 - val_loss: 0.0533 - val_acc: 0.9842\n",
            "Epoch 6/25\n",
            "45000/45000 [==============================] - 253s 6ms/step - loss: 0.0755 - acc: 0.9764 - val_loss: 0.0431 - val_acc: 0.9865\n",
            "Epoch 7/25\n",
            "45000/45000 [==============================] - 252s 6ms/step - loss: 0.0654 - acc: 0.9807 - val_loss: 0.0404 - val_acc: 0.9881\n",
            "Epoch 8/25\n",
            "45000/45000 [==============================] - 257s 6ms/step - loss: 0.0562 - acc: 0.9839 - val_loss: 0.0443 - val_acc: 0.9863\n",
            "Epoch 9/25\n",
            "45000/45000 [==============================] - 253s 6ms/step - loss: 0.0483 - acc: 0.9849 - val_loss: 0.0385 - val_acc: 0.9878\n",
            "Epoch 10/25\n",
            "45000/45000 [==============================] - 261s 6ms/step - loss: 0.0459 - acc: 0.9866 - val_loss: 0.0320 - val_acc: 0.9895\n",
            "Epoch 11/25\n",
            "45000/45000 [==============================] - 265s 6ms/step - loss: 0.0391 - acc: 0.9880 - val_loss: 0.0324 - val_acc: 0.9901\n",
            "Epoch 12/25\n",
            "45000/45000 [==============================] - 264s 6ms/step - loss: 0.0378 - acc: 0.9886 - val_loss: 0.0299 - val_acc: 0.9903\n",
            "Epoch 13/25\n",
            "45000/45000 [==============================] - 252s 6ms/step - loss: 0.0342 - acc: 0.9892 - val_loss: 0.0285 - val_acc: 0.9904\n",
            "Epoch 14/25\n",
            "45000/45000 [==============================] - 251s 6ms/step - loss: 0.0316 - acc: 0.9902 - val_loss: 0.0294 - val_acc: 0.9913\n",
            "Epoch 15/25\n",
            "45000/45000 [==============================] - 255s 6ms/step - loss: 0.0283 - acc: 0.9916 - val_loss: 0.0296 - val_acc: 0.9914\n",
            "Epoch 16/25\n",
            "45000/45000 [==============================] - 250s 6ms/step - loss: 0.0276 - acc: 0.9915 - val_loss: 0.0259 - val_acc: 0.9923\n",
            "Epoch 17/25\n",
            "45000/45000 [==============================] - 251s 6ms/step - loss: 0.0258 - acc: 0.9921 - val_loss: 0.0287 - val_acc: 0.9915\n",
            "Epoch 18/25\n",
            "45000/45000 [==============================] - 250s 6ms/step - loss: 0.0232 - acc: 0.9930 - val_loss: 0.0267 - val_acc: 0.9919\n",
            "Epoch 19/25\n",
            "45000/45000 [==============================] - 247s 5ms/step - loss: 0.0226 - acc: 0.9929 - val_loss: 0.0267 - val_acc: 0.9925\n",
            "Epoch 20/25\n",
            "45000/45000 [==============================] - 256s 6ms/step - loss: 0.0211 - acc: 0.9935 - val_loss: 0.0262 - val_acc: 0.9924\n",
            "Epoch 21/25\n",
            "45000/45000 [==============================] - 255s 6ms/step - loss: 0.0205 - acc: 0.9935 - val_loss: 0.0275 - val_acc: 0.9918\n",
            "Epoch 22/25\n",
            "45000/45000 [==============================] - 272s 6ms/step - loss: 0.0192 - acc: 0.9935 - val_loss: 0.0259 - val_acc: 0.9929\n",
            "Epoch 23/25\n",
            "45000/45000 [==============================] - 254s 6ms/step - loss: 0.0194 - acc: 0.9936 - val_loss: 0.0273 - val_acc: 0.9923\n",
            "Epoch 24/25\n",
            "45000/45000 [==============================] - 252s 6ms/step - loss: 0.0163 - acc: 0.9949 - val_loss: 0.0318 - val_acc: 0.9911\n",
            "Epoch 25/25\n",
            "45000/45000 [==============================] - 258s 6ms/step - loss: 0.0159 - acc: 0.9952 - val_loss: 0.0269 - val_acc: 0.9927\n"
          ],
          "name": "stdout"
        },
        {
          "output_type": "execute_result",
          "data": {
            "text/plain": [
              "<keras.callbacks.History at 0x7f33d3ff50f0>"
            ]
          },
          "metadata": {
            "tags": []
          },
          "execution_count": 6
        }
      ]
    },
    {
      "cell_type": "code",
      "metadata": {
        "id": "hjBbP3lJT8a6",
        "colab_type": "code",
        "outputId": "88748848-832f-4209-c195-e225148edd66",
        "colab": {
          "base_uri": "https://localhost:8080/",
          "height": 34
        }
      },
      "source": [
        "score = model.evaluate(X_validate, y_validate)"
      ],
      "execution_count": 0,
      "outputs": [
        {
          "output_type": "stream",
          "text": [
            "10000/10000 [==============================] - 15s 1ms/step\n"
          ],
          "name": "stdout"
        }
      ]
    },
    {
      "cell_type": "code",
      "metadata": {
        "id": "eiv0em-_xpyK",
        "colab_type": "code",
        "outputId": "81a39243-63fe-4f06-d6b5-b4f4cc210ca5",
        "colab": {
          "base_uri": "https://localhost:8080/",
          "height": 34
        }
      },
      "source": [
        "score"
      ],
      "execution_count": 0,
      "outputs": [
        {
          "output_type": "execute_result",
          "data": {
            "text/plain": [
              "[0.019672571613818583, 0.9935]"
            ]
          },
          "metadata": {
            "tags": []
          },
          "execution_count": 8
        }
      ]
    },
    {
      "cell_type": "code",
      "metadata": {
        "id": "p37ujLWlx1hs",
        "colab_type": "code",
        "outputId": "a95c6f61-8b77-485c-dce6-eb7629389696",
        "colab": {
          "base_uri": "https://localhost:8080/",
          "height": 125
        }
      },
      "source": [
        "from google.colab import drive\n",
        "drive.mount('/content/drive')"
      ],
      "execution_count": 0,
      "outputs": [
        {
          "output_type": "stream",
          "text": [
            "Go to this URL in a browser: https://accounts.google.com/o/oauth2/auth?client_id=947318989803-6bn6qk8qdgf4n4g3pfee6491hc0brc4i.apps.googleusercontent.com&redirect_uri=urn%3Aietf%3Awg%3Aoauth%3A2.0%3Aoob&scope=email%20https%3A%2F%2Fwww.googleapis.com%2Fauth%2Fdocs.test%20https%3A%2F%2Fwww.googleapis.com%2Fauth%2Fdrive%20https%3A%2F%2Fwww.googleapis.com%2Fauth%2Fdrive.photos.readonly%20https%3A%2F%2Fwww.googleapis.com%2Fauth%2Fpeopleapi.readonly&response_type=code\n",
            "\n",
            "Enter your authorization code:\n",
            "··········\n",
            "Mounted at /content/drive\n"
          ],
          "name": "stdout"
        }
      ]
    },
    {
      "cell_type": "code",
      "metadata": {
        "id": "soU59aJqx2hs",
        "colab_type": "code",
        "colab": {}
      },
      "source": [
        "model.save('drive/My Drive/course_project/h5_models/new_mnist.h5')"
      ],
      "execution_count": 0,
      "outputs": []
    },
    {
      "cell_type": "code",
      "metadata": {
        "id": "ViSs9K6hyC8U",
        "colab_type": "code",
        "colab": {}
      },
      "source": [
        ""
      ],
      "execution_count": 0,
      "outputs": []
    }
  ]
}